{
 "cells": [
  {
   "cell_type": "code",
   "execution_count": null,
   "id": "0d8068da",
   "metadata": {},
   "outputs": [
    {
     "ename": "",
     "evalue": "",
     "output_type": "error",
     "traceback": [
      "\u001b[1;31mRunning cells with 'c:\\Users\\jyoti\\AppData\\Local\\Programs\\Python\\Python38\\python.exe' requires the ipykernel package.\n",
      "\u001b[1;31mRun the following command to install 'ipykernel' into the Python environment. \n",
      "\u001b[1;31mCommand: 'c:/Users/jyoti/AppData/Local/Programs/Python/Python38/python.exe -m pip install ipykernel -U --user --force-reinstall'"
     ]
    }
   ],
   "source": [
    "import pandas as pd\n",
    "import numpy as np\n",
    "from sklearn import preprocessing\n",
    "from sklearn.ensemble import RandomForestClassifier\n",
    "from sklearn.model_selection import train_test_split, cross_val_score, RepeatedStratifiedKFold, GridSearchCV\n",
    "from sklearn.metrics import accuracy_score, classification_report\n",
    "import seaborn as sns\n",
    "import matplotlib.pyplot as plt"
   ]
  },
  {
   "cell_type": "code",
   "execution_count": null,
   "id": "80b98a16",
   "metadata": {},
   "outputs": [
    {
     "ename": "",
     "evalue": "",
     "output_type": "error",
     "traceback": [
      "\u001b[1;31mRunning cells with 'c:\\Users\\jyoti\\AppData\\Local\\Programs\\Python\\Python38\\python.exe' requires the ipykernel package.\n",
      "\u001b[1;31mRun the following command to install 'ipykernel' into the Python environment. \n",
      "\u001b[1;31mCommand: 'c:/Users/jyoti/AppData/Local/Programs/Python/Python38/python.exe -m pip install ipykernel -U --user --force-reinstall'"
     ]
    }
   ],
   "source": [
    "pd.set_option('display.max_columns', None)\n",
    "df = pd.read_csv('data//vcf_with_labels.csv')\n",
    "samples = df['samples']\n",
    "df = df.drop(columns = ['samples', 'score'])\n",
    "df.head(10)"
   ]
  },
  {
   "cell_type": "code",
   "execution_count": null,
   "id": "5e099062",
   "metadata": {},
   "outputs": [
    {
     "ename": "",
     "evalue": "",
     "output_type": "error",
     "traceback": [
      "\u001b[1;31mRunning cells with 'c:\\Users\\jyoti\\AppData\\Local\\Programs\\Python\\Python38\\python.exe' requires the ipykernel package.\n",
      "\u001b[1;31mRun the following command to install 'ipykernel' into the Python environment. \n",
      "\u001b[1;31mCommand: 'c:/Users/jyoti/AppData/Local/Programs/Python/Python38/python.exe -m pip install ipykernel -U --user --force-reinstall'"
     ]
    }
   ],
   "source": [
    "target = df.label.values\n",
    "Data = df.drop(columns = 'label').values\n",
    "D_train, D_test, t_train, t_test = train_test_split(Data, \n",
    "                                                    target, \n",
    "                                                    test_size = 0.3,\n",
    "                                                    random_state=999,\n",
    "                                                    stratify=target)\n",
    "\n",
    "print(\"Orginal dataset shape:\", df.shape)\n",
    "print(\"Features training dataset shape after split:\", D_train.shape)\n",
    "print(\"Features test dataset shape after split:\", D_test.shape)\n",
    "print(\"Target training dataset shape after split:\", t_train.shape)\n",
    "print(\"Target test dataset shape after split:\", t_test.shape)"
   ]
  },
  {
   "cell_type": "code",
   "execution_count": null,
   "id": "45c41c13",
   "metadata": {},
   "outputs": [
    {
     "ename": "",
     "evalue": "",
     "output_type": "error",
     "traceback": [
      "\u001b[1;31mRunning cells with 'c:\\Users\\jyoti\\AppData\\Local\\Programs\\Python\\Python38\\python.exe' requires the ipykernel package.\n",
      "\u001b[1;31mRun the following command to install 'ipykernel' into the Python environment. \n",
      "\u001b[1;31mCommand: 'c:/Users/jyoti/AppData/Local/Programs/Python/Python38/python.exe -m pip install ipykernel -U --user --force-reinstall'"
     ]
    }
   ],
   "source": [
    "cv_method = RepeatedStratifiedKFold(n_splits=5, \n",
    "                                     n_repeats=3,\n",
    "                                    random_state=999)"
   ]
  },
  {
   "cell_type": "code",
   "execution_count": null,
   "id": "ccaae51b",
   "metadata": {},
   "outputs": [
    {
     "ename": "",
     "evalue": "",
     "output_type": "error",
     "traceback": [
      "\u001b[1;31mRunning cells with 'c:\\Users\\jyoti\\AppData\\Local\\Programs\\Python\\Python38\\python.exe' requires the ipykernel package.\n",
      "\u001b[1;31mRun the following command to install 'ipykernel' into the Python environment. \n",
      "\u001b[1;31mCommand: 'c:/Users/jyoti/AppData/Local/Programs/Python/Python38/python.exe -m pip install ipykernel -U --user --force-reinstall'"
     ]
    }
   ],
   "source": [
    "scoring_metric = 'accuracy'"
   ]
  },
  {
   "cell_type": "code",
   "execution_count": null,
   "id": "0cce53bd",
   "metadata": {},
   "outputs": [
    {
     "ename": "",
     "evalue": "",
     "output_type": "error",
     "traceback": [
      "\u001b[1;31mRunning cells with 'c:\\Users\\jyoti\\AppData\\Local\\Programs\\Python\\Python38\\python.exe' requires the ipykernel package.\n",
      "\u001b[1;31mRun the following command to install 'ipykernel' into the Python environment. \n",
      "\u001b[1;31mCommand: 'c:/Users/jyoti/AppData/Local/Programs/Python/Python38/python.exe -m pip install ipykernel -U --user --force-reinstall'"
     ]
    }
   ],
   "source": [
    "rf_classifier = RandomForestClassifier(random_state = 999)\n",
    "rf_cv_results_full = cross_val_score(estimator=rf_classifier,\n",
    "                                    X=D_test,\n",
    "                                    y=t_test,\n",
    "                                   cv=cv_method, \n",
    "                                   scoring=scoring_metric)\n",
    "rf_cv_results_full.mean().round(3)"
   ]
  },
  {
   "cell_type": "code",
   "execution_count": null,
   "id": "5111f6c6",
   "metadata": {},
   "outputs": [
    {
     "ename": "",
     "evalue": "",
     "output_type": "error",
     "traceback": [
      "\u001b[1;31mRunning cells with 'c:\\Users\\jyoti\\AppData\\Local\\Programs\\Python\\Python38\\python.exe' requires the ipykernel package.\n",
      "\u001b[1;31mRun the following command to install 'ipykernel' into the Python environment. \n",
      "\u001b[1;31mCommand: 'c:/Users/jyoti/AppData/Local/Programs/Python/Python38/python.exe -m pip install ipykernel -U --user --force-reinstall'"
     ]
    }
   ],
   "source": [
    "num_features = 10\n",
    "model_rfi = RandomForestClassifier(n_estimators=100)\n",
    "model_rfi.fit(D_train, t_train)\n",
    "fs_indices_rfi = np.argsort(model_rfi.feature_importances_)[::-1][0:num_features]"
   ]
  },
  {
   "cell_type": "code",
   "execution_count": null,
   "id": "578281c3",
   "metadata": {},
   "outputs": [
    {
     "ename": "",
     "evalue": "",
     "output_type": "error",
     "traceback": [
      "\u001b[1;31mRunning cells with 'c:\\Users\\jyoti\\AppData\\Local\\Programs\\Python\\Python38\\python.exe' requires the ipykernel package.\n",
      "\u001b[1;31mRun the following command to install 'ipykernel' into the Python environment. \n",
      "\u001b[1;31mCommand: 'c:/Users/jyoti/AppData/Local/Programs/Python/Python38/python.exe -m pip install ipykernel -U --user --force-reinstall'"
     ]
    }
   ],
   "source": [
    "best_features_rfi = df.columns[fs_indices_rfi].values\n",
    "print('The top 10 features are:', \", \".join([str(i) for i in best_features_rfi]))"
   ]
  },
  {
   "cell_type": "code",
   "execution_count": null,
   "id": "bfc19cfc",
   "metadata": {},
   "outputs": [
    {
     "ename": "",
     "evalue": "",
     "output_type": "error",
     "traceback": [
      "\u001b[1;31mRunning cells with 'c:\\Users\\jyoti\\AppData\\Local\\Programs\\Python\\Python38\\python.exe' requires the ipykernel package.\n",
      "\u001b[1;31mRun the following command to install 'ipykernel' into the Python environment. \n",
      "\u001b[1;31mCommand: 'c:/Users/jyoti/AppData/Local/Programs/Python/Python38/python.exe -m pip install ipykernel -U --user --force-reinstall'"
     ]
    }
   ],
   "source": [
    "feature_importances_rfi = model_rfi.feature_importances_[fs_indices_rfi]\n",
    "print('The importance scores for the previous 10 features are:', \", \".join([str(round(i,4)) for i in feature_importances_rfi]))"
   ]
  },
  {
   "cell_type": "code",
   "execution_count": null,
   "id": "4f3f58f9",
   "metadata": {},
   "outputs": [
    {
     "ename": "",
     "evalue": "",
     "output_type": "error",
     "traceback": [
      "\u001b[1;31mRunning cells with 'c:\\Users\\jyoti\\AppData\\Local\\Programs\\Python\\Python38\\python.exe' requires the ipykernel package.\n",
      "\u001b[1;31mRun the following command to install 'ipykernel' into the Python environment. \n",
      "\u001b[1;31mCommand: 'c:/Users/jyoti/AppData/Local/Programs/Python/Python38/python.exe -m pip install ipykernel -U --user --force-reinstall'"
     ]
    }
   ],
   "source": [
    "%matplotlib inline \n",
    "%config InlineBackend.figure_format = 'retina'\n",
    "plt.style.use(\"seaborn\")\n",
    "\n",
    "def plot_imp(best_features, scores, method_name):   \n",
    "    plt.barh(best_features, scores)\n",
    "    plt.title(method_name + ' Feature Importances')\n",
    "    plt.xlabel(\"Importance\")\n",
    "    plt.ylabel(\"Features\")\n",
    "    plt.show()\n",
    "\n",
    "plot_imp(best_features_rfi, feature_importances_rfi, 'Random Forest')"
   ]
  },
  {
   "cell_type": "code",
   "execution_count": null,
   "id": "9aff562a",
   "metadata": {},
   "outputs": [
    {
     "ename": "",
     "evalue": "",
     "output_type": "error",
     "traceback": [
      "\u001b[1;31mRunning cells with 'c:\\Users\\jyoti\\AppData\\Local\\Programs\\Python\\Python38\\python.exe' requires the ipykernel package.\n",
      "\u001b[1;31mRun the following command to install 'ipykernel' into the Python environment. \n",
      "\u001b[1;31mCommand: 'c:/Users/jyoti/AppData/Local/Programs/Python/Python38/python.exe -m pip install ipykernel -U --user --force-reinstall'"
     ]
    }
   ],
   "source": [
    "params_RF = {'criterion': ['gini', 'entropy'],\n",
    "             'n_estimators':[100, 250, 500],\n",
    "             'max_depth': [2,5,7,10,12]}\n",
    "\n",
    "gs_RF = GridSearchCV(estimator=rf_classifier, \n",
    "                     param_grid=params_RF, \n",
    "                     cv=cv_method,\n",
    "                     verbose=1, \n",
    "                     scoring='roc_auc')\n",
    "gs_RF.fit(D_train,t_train)"
   ]
  },
  {
   "cell_type": "code",
   "execution_count": null,
   "id": "603a7d44",
   "metadata": {},
   "outputs": [
    {
     "ename": "",
     "evalue": "",
     "output_type": "error",
     "traceback": [
      "\u001b[1;31mRunning cells with 'c:\\Users\\jyoti\\AppData\\Local\\Programs\\Python\\Python38\\python.exe' requires the ipykernel package.\n",
      "\u001b[1;31mRun the following command to install 'ipykernel' into the Python environment. \n",
      "\u001b[1;31mCommand: 'c:/Users/jyoti/AppData/Local/Programs/Python/Python38/python.exe -m pip install ipykernel -U --user --force-reinstall'"
     ]
    }
   ],
   "source": [
    "print('The best parameters for Random Forest Classifier are: ', gs_RF.best_params_)"
   ]
  },
  {
   "cell_type": "code",
   "execution_count": null,
   "id": "a660f0b7",
   "metadata": {},
   "outputs": [
    {
     "ename": "",
     "evalue": "",
     "output_type": "error",
     "traceback": [
      "\u001b[1;31mRunning cells with 'c:\\Users\\jyoti\\AppData\\Local\\Programs\\Python\\Python38\\python.exe' requires the ipykernel package.\n",
      "\u001b[1;31mRun the following command to install 'ipykernel' into the Python environment. \n",
      "\u001b[1;31mCommand: 'c:/Users/jyoti/AppData/Local/Programs/Python/Python38/python.exe -m pip install ipykernel -U --user --force-reinstall'"
     ]
    }
   ],
   "source": [
    "print(\"The best score using area under the ROC curve metric is:\", round(gs_RF.best_score_,3))"
   ]
  },
  {
   "cell_type": "code",
   "execution_count": null,
   "id": "f76a84a8",
   "metadata": {},
   "outputs": [
    {
     "ename": "",
     "evalue": "",
     "output_type": "error",
     "traceback": [
      "\u001b[1;31mRunning cells with 'c:\\Users\\jyoti\\AppData\\Local\\Programs\\Python\\Python38\\python.exe' requires the ipykernel package.\n",
      "\u001b[1;31mRun the following command to install 'ipykernel' into the Python environment. \n",
      "\u001b[1;31mCommand: 'c:/Users/jyoti/AppData/Local/Programs/Python/Python38/python.exe -m pip install ipykernel -U --user --force-reinstall'"
     ]
    }
   ],
   "source": [
    "results_RF = pd.DataFrame(gs_RF.cv_results_['params'])\n",
    "results_RF['test_score'] = gs_RF.cv_results_['mean_test_score']\n",
    "results_RF.nlargest(n=10, columns=['test_score']).style.highlight_max(subset = ['test_score'],color = 'lightgreen', axis = 0)"
   ]
  },
  {
   "cell_type": "code",
   "execution_count": null,
   "id": "15ae89ea",
   "metadata": {},
   "outputs": [
    {
     "ename": "",
     "evalue": "",
     "output_type": "error",
     "traceback": [
      "\u001b[1;31mRunning cells with 'c:\\Users\\jyoti\\AppData\\Local\\Programs\\Python\\Python38\\python.exe' requires the ipykernel package.\n",
      "\u001b[1;31mRun the following command to install 'ipykernel' into the Python environment. \n",
      "\u001b[1;31mCommand: 'c:/Users/jyoti/AppData/Local/Programs/Python/Python38/python.exe -m pip install ipykernel -U --user --force-reinstall'"
     ]
    }
   ],
   "source": [
    "rel_plot=sns.relplot(data=results_RF,\n",
    "            x='max_depth',\n",
    "            y='test_score',\n",
    "           col='criterion',\n",
    "           hue='n_estimators', style=\"n_estimators\",\n",
    "           kind='line')\n",
    "rel_plot.axes[0,0].set_xlabel('Max depth')\n",
    "rel_plot.axes[0,1].set_xlabel('Max depth')\n",
    "rel_plot.axes[0,0].set_ylabel('Score')\n",
    "rel_plot._legend.set_title(\"Number of\\nestimators\")\n",
    "rel_plot._legend._legend_box.align=\"left\"\n",
    "rel_plot.fig.subplots_adjust(top=0.8)\n",
    "rel_plot.fig.suptitle(\"Figure 3. Random forest performance\")\n",
    "plt.show(rel_plot)"
   ]
  },
  {
   "cell_type": "code",
   "execution_count": null,
   "id": "ae62495c",
   "metadata": {},
   "outputs": [
    {
     "ename": "",
     "evalue": "",
     "output_type": "error",
     "traceback": [
      "\u001b[1;31mRunning cells with 'c:\\Users\\jyoti\\AppData\\Local\\Programs\\Python\\Python38\\python.exe' requires the ipykernel package.\n",
      "\u001b[1;31mRun the following command to install 'ipykernel' into the Python environment. \n",
      "\u001b[1;31mCommand: 'c:/Users/jyoti/AppData/Local/Programs/Python/Python38/python.exe -m pip install ipykernel -U --user --force-reinstall'"
     ]
    }
   ],
   "source": [
    "rf = RandomForestClassifier(n_estimators = results_RF['n_estimators'].iloc[0],\n",
    "                           criterion = results_RF['criterion'].iloc[0],\n",
    "                          max_depth = results_RF['max_depth'].iloc[0])\n",
    "rf.fit(D_train, t_train)\n",
    "predictions = rf.predict(D_test)"
   ]
  },
  {
   "cell_type": "code",
   "execution_count": null,
   "id": "78fb4596",
   "metadata": {},
   "outputs": [
    {
     "ename": "",
     "evalue": "",
     "output_type": "error",
     "traceback": [
      "\u001b[1;31mRunning cells with 'c:\\Users\\jyoti\\AppData\\Local\\Programs\\Python\\Python38\\python.exe' requires the ipykernel package.\n",
      "\u001b[1;31mRun the following command to install 'ipykernel' into the Python environment. \n",
      "\u001b[1;31mCommand: 'c:/Users/jyoti/AppData/Local/Programs/Python/Python38/python.exe -m pip install ipykernel -U --user --force-reinstall'"
     ]
    }
   ],
   "source": [
    "pred_df = pd.DataFrame({'actual_label':t_test,'predicted_label':predictions})"
   ]
  },
  {
   "cell_type": "code",
   "execution_count": null,
   "id": "6951acce",
   "metadata": {},
   "outputs": [
    {
     "ename": "",
     "evalue": "",
     "output_type": "error",
     "traceback": [
      "\u001b[1;31mRunning cells with 'c:\\Users\\jyoti\\AppData\\Local\\Programs\\Python\\Python38\\python.exe' requires the ipykernel package.\n",
      "\u001b[1;31mRun the following command to install 'ipykernel' into the Python environment. \n",
      "\u001b[1;31mCommand: 'c:/Users/jyoti/AppData/Local/Programs/Python/Python38/python.exe -m pip install ipykernel -U --user --force-reinstall'"
     ]
    }
   ],
   "source": [
    "pred_df.head(10)"
   ]
  },
  {
   "cell_type": "code",
   "execution_count": null,
   "id": "57483cfe",
   "metadata": {},
   "outputs": [
    {
     "ename": "",
     "evalue": "",
     "output_type": "error",
     "traceback": [
      "\u001b[1;31mRunning cells with 'c:\\Users\\jyoti\\AppData\\Local\\Programs\\Python\\Python38\\python.exe' requires the ipykernel package.\n",
      "\u001b[1;31mRun the following command to install 'ipykernel' into the Python environment. \n",
      "\u001b[1;31mCommand: 'c:/Users/jyoti/AppData/Local/Programs/Python/Python38/python.exe -m pip install ipykernel -U --user --force-reinstall'"
     ]
    }
   ],
   "source": [
    "accuracy_score(t_test, predictions)"
   ]
  },
  {
   "cell_type": "code",
   "execution_count": null,
   "id": "af05fea2",
   "metadata": {},
   "outputs": [
    {
     "ename": "",
     "evalue": "",
     "output_type": "error",
     "traceback": [
      "\u001b[1;31mRunning cells with 'c:\\Users\\jyoti\\AppData\\Local\\Programs\\Python\\Python38\\python.exe' requires the ipykernel package.\n",
      "\u001b[1;31mRun the following command to install 'ipykernel' into the Python environment. \n",
      "\u001b[1;31mCommand: 'c:/Users/jyoti/AppData/Local/Programs/Python/Python38/python.exe -m pip install ipykernel -U --user --force-reinstall'"
     ]
    }
   ],
   "source": [
    "print(classification_report(t_test, predictions))"
   ]
  },
  {
   "cell_type": "code",
   "execution_count": null,
   "id": "d9ea5809",
   "metadata": {},
   "outputs": [
    {
     "ename": "",
     "evalue": "",
     "output_type": "error",
     "traceback": [
      "\u001b[1;31mRunning cells with 'c:\\Users\\jyoti\\AppData\\Local\\Programs\\Python\\Python38\\python.exe' requires the ipykernel package.\n",
      "\u001b[1;31mRun the following command to install 'ipykernel' into the Python environment. \n",
      "\u001b[1;31mCommand: 'c:/Users/jyoti/AppData/Local/Programs/Python/Python38/python.exe -m pip install ipykernel -U --user --force-reinstall'"
     ]
    }
   ],
   "source": [
    "# Data Augmentation Here\n",
    "import pandas as pd\n",
    "import numpy as np\n",
    "from sklearn.ensemble import RandomForestClassifier\n",
    "from sklearn.model_selection import train_test_split\n",
    "from sklearn.metrics import accuracy_score, classification_report\n",
    "\n",
    "# Load your dataset\n",
    "file_path = r'D:\\data-augmentation-genetics\\vcf_with_labels.csv'\n",
    "df = pd.read_csv(file_path)\n",
    "\n",
    "# Split features and labels\n",
    "target = df.label.values\n",
    "data = df.drop(columns=['label', 'samples', 'score']).values\n",
    "\n",
    "# Ensure the data is stored as floating-point values\n",
    "data = data.astype(float)\n",
    "\n",
    "# Split the data into training and test sets\n",
    "D_train, D_test, t_train, t_test = train_test_split(data, target, test_size=0.3, random_state=999, stratify=target)\n",
    "\n",
    "# Data augmentation: Add random noise to numeric columns\n",
    "def augment_data(data, numeric_columns, noise_scale=0.1):\n",
    "    augmented_data = data.copy()\n",
    "    for col_idx in numeric_columns:\n",
    "        augmented_data[:, col_idx] += np.random.normal(0, noise_scale, len(augmented_data))\n",
    "    return augmented_data\n",
    "\n",
    "numeric_columns = [0, 1, 2, 3]  # Adjust this list to include the indices of your numeric columns\n",
    "augmented_D_train = augment_data(D_train, numeric_columns)\n",
    "\n",
    "# Train a Random Forest Classifier on augmented data\n",
    "rf_classifier = RandomForestClassifier(random_state=999)\n",
    "rf_classifier.fit(augmented_D_train, t_train)\n",
    "\n",
    "# Evaluate the model on the original test data\n",
    "predictions = rf_classifier.predict(D_test)\n",
    "\n",
    "# Print evaluation metrics and reports\n",
    "print(\"Accuracy:\", accuracy_score(t_test, predictions))\n",
    "print(\"Classification Report:\\n\", classification_report(t_test, predictions))\n"
   ]
  },
  {
   "cell_type": "markdown",
   "id": "6c5d062f",
   "metadata": {},
   "source": [
    "#Hyper param tuning"
   ]
  },
  {
   "cell_type": "code",
   "execution_count": null,
   "id": "7846c5a4",
   "metadata": {},
   "outputs": [],
   "source": [
    "import pandas as pd\n",
    "import numpy as np\n",
    "from sklearn.ensemble import RandomForestClassifier\n",
    "from sklearn.model_selection import train_test_split, GridSearchCV\n",
    "from sklearn.metrics import accuracy_score, classification_report\n",
    "\n",
    "# Load your dataset\n",
    "file_path = r'D:\\data-augmentation-genetics\\vcf_with_labels.csv'\n",
    "df = pd.read_csv(file_path)\n",
    "\n",
    "# Split features and labels\n",
    "target = df.label.values\n",
    "data = df.drop(columns=['label', 'samples', 'score']).values\n",
    "\n",
    "# Ensure the data is stored as floating-point values\n",
    "data = data.astype(float)\n",
    "\n",
    "# Split the data into training and test sets\n",
    "D_train, D_test, t_train, t_test = train_test_split(data, target, test_size=0.3, random_state=999, stratify=target)\n",
    "\n",
    "# Create a Random Forest Classifier\n",
    "rf_classifier = RandomForestClassifier(random_state=999)\n",
    "\n",
    "# Define a grid of hyperparameters to search\n",
    "param_grid = {\n",
    "    'n_estimators': [100, 250, 500],\n",
    "    'max_depth': [None, 10, 20, 30],\n",
    "    'min_samples_split': [2, 5, 10],\n",
    "    'min_samples_leaf': [1, 2, 4]\n",
    "}\n",
    "\n",
    "# Create a grid search with cross-validation\n",
    "grid_search = GridSearchCV(estimator=rf_classifier, param_grid=param_grid, cv=5, scoring='accuracy', n_jobs=-1)\n",
    "\n",
    "# Fit the grid search to your training data\n",
    "grid_search.fit(D_train, t_train)\n",
    "\n",
    "# Get the best hyperparameters\n",
    "best_params = grid_search.best_params_\n",
    "print(\"Best Hyperparameters:\", best_params)\n",
    "\n",
    "# Use the best model to make predictions\n",
    "best_model = grid_search.best_estimator_\n",
    "predictions = best_model.predict(D_test)\n",
    "\n",
    "# Print evaluation metrics and reports\n",
    "print(\"Accuracy:\", accuracy_score(t_test, predictions))\n",
    "print(\"Classification Report:\\n\", classification_report(t_test, predictions))"
   ]
  }
 ],
 "metadata": {
  "kernelspec": {
   "display_name": "Python 3 (ipykernel)",
   "language": "python",
   "name": "python3"
  },
  "language_info": {
   "codemirror_mode": {
    "name": "ipython",
    "version": 3
   },
   "file_extension": ".py",
   "mimetype": "text/x-python",
   "name": "python",
   "nbconvert_exporter": "python",
   "pygments_lexer": "ipython3",
   "version": "3.8.0"
  }
 },
 "nbformat": 4,
 "nbformat_minor": 5
}
